{
 "cells": [
  {
   "cell_type": "code",
   "execution_count": 38,
   "id": "9156912b",
   "metadata": {},
   "outputs": [],
   "source": [
    "import pandas as pd\n",
    "import numpy as np\n",
    "import matplotlib.pyplot as plt\n",
    "import seaborn as sn\n",
    "%matplotlib inline"
   ]
  },
  {
   "cell_type": "code",
   "execution_count": 2,
   "id": "5f5f0cc2",
   "metadata": {},
   "outputs": [],
   "source": [
    "df = pd.read_csv(\"customer_churn_dataset-training-master.csv\")"
   ]
  },
  {
   "cell_type": "code",
   "execution_count": 3,
   "id": "f94a1788",
   "metadata": {
    "scrolled": true
   },
   "outputs": [
    {
     "data": {
      "text/html": [
       "<div>\n",
       "<style scoped>\n",
       "    .dataframe tbody tr th:only-of-type {\n",
       "        vertical-align: middle;\n",
       "    }\n",
       "\n",
       "    .dataframe tbody tr th {\n",
       "        vertical-align: top;\n",
       "    }\n",
       "\n",
       "    .dataframe thead th {\n",
       "        text-align: right;\n",
       "    }\n",
       "</style>\n",
       "<table border=\"1\" class=\"dataframe\">\n",
       "  <thead>\n",
       "    <tr style=\"text-align: right;\">\n",
       "      <th></th>\n",
       "      <th>CustomerID</th>\n",
       "      <th>Age</th>\n",
       "      <th>Gender</th>\n",
       "      <th>Tenure</th>\n",
       "      <th>Usage Frequency</th>\n",
       "      <th>Support Calls</th>\n",
       "      <th>Payment Delay</th>\n",
       "      <th>Subscription Type</th>\n",
       "      <th>Contract Length</th>\n",
       "      <th>Total Spend</th>\n",
       "      <th>Last Interaction</th>\n",
       "      <th>Churn</th>\n",
       "    </tr>\n",
       "  </thead>\n",
       "  <tbody>\n",
       "    <tr>\n",
       "      <th>409501</th>\n",
       "      <td>416616.0</td>\n",
       "      <td>42.0</td>\n",
       "      <td>Male</td>\n",
       "      <td>23.0</td>\n",
       "      <td>16.0</td>\n",
       "      <td>3.0</td>\n",
       "      <td>13.0</td>\n",
       "      <td>Basic</td>\n",
       "      <td>Quarterly</td>\n",
       "      <td>611.52</td>\n",
       "      <td>17.0</td>\n",
       "      <td>0.0</td>\n",
       "    </tr>\n",
       "    <tr>\n",
       "      <th>126192</th>\n",
       "      <td>130264.0</td>\n",
       "      <td>58.0</td>\n",
       "      <td>Male</td>\n",
       "      <td>8.0</td>\n",
       "      <td>5.0</td>\n",
       "      <td>7.0</td>\n",
       "      <td>28.0</td>\n",
       "      <td>Standard</td>\n",
       "      <td>Quarterly</td>\n",
       "      <td>869.00</td>\n",
       "      <td>7.0</td>\n",
       "      <td>1.0</td>\n",
       "    </tr>\n",
       "    <tr>\n",
       "      <th>51167</th>\n",
       "      <td>52012.0</td>\n",
       "      <td>58.0</td>\n",
       "      <td>Male</td>\n",
       "      <td>2.0</td>\n",
       "      <td>29.0</td>\n",
       "      <td>3.0</td>\n",
       "      <td>22.0</td>\n",
       "      <td>Standard</td>\n",
       "      <td>Quarterly</td>\n",
       "      <td>555.00</td>\n",
       "      <td>14.0</td>\n",
       "      <td>1.0</td>\n",
       "    </tr>\n",
       "    <tr>\n",
       "      <th>152035</th>\n",
       "      <td>156846.0</td>\n",
       "      <td>32.0</td>\n",
       "      <td>Female</td>\n",
       "      <td>53.0</td>\n",
       "      <td>27.0</td>\n",
       "      <td>6.0</td>\n",
       "      <td>15.0</td>\n",
       "      <td>Standard</td>\n",
       "      <td>Annual</td>\n",
       "      <td>961.00</td>\n",
       "      <td>10.0</td>\n",
       "      <td>1.0</td>\n",
       "    </tr>\n",
       "    <tr>\n",
       "      <th>333776</th>\n",
       "      <td>340891.0</td>\n",
       "      <td>49.0</td>\n",
       "      <td>Male</td>\n",
       "      <td>11.0</td>\n",
       "      <td>9.0</td>\n",
       "      <td>1.0</td>\n",
       "      <td>19.0</td>\n",
       "      <td>Standard</td>\n",
       "      <td>Annual</td>\n",
       "      <td>671.17</td>\n",
       "      <td>19.0</td>\n",
       "      <td>0.0</td>\n",
       "    </tr>\n",
       "  </tbody>\n",
       "</table>\n",
       "</div>"
      ],
      "text/plain": [
       "        CustomerID   Age  Gender  Tenure  Usage Frequency  Support Calls  \\\n",
       "409501    416616.0  42.0    Male    23.0             16.0            3.0   \n",
       "126192    130264.0  58.0    Male     8.0              5.0            7.0   \n",
       "51167      52012.0  58.0    Male     2.0             29.0            3.0   \n",
       "152035    156846.0  32.0  Female    53.0             27.0            6.0   \n",
       "333776    340891.0  49.0    Male    11.0              9.0            1.0   \n",
       "\n",
       "        Payment Delay Subscription Type Contract Length  Total Spend  \\\n",
       "409501           13.0             Basic       Quarterly       611.52   \n",
       "126192           28.0          Standard       Quarterly       869.00   \n",
       "51167            22.0          Standard       Quarterly       555.00   \n",
       "152035           15.0          Standard          Annual       961.00   \n",
       "333776           19.0          Standard          Annual       671.17   \n",
       "\n",
       "        Last Interaction  Churn  \n",
       "409501              17.0    0.0  \n",
       "126192               7.0    1.0  \n",
       "51167               14.0    1.0  \n",
       "152035              10.0    1.0  \n",
       "333776              19.0    0.0  "
      ]
     },
     "execution_count": 3,
     "metadata": {},
     "output_type": "execute_result"
    }
   ],
   "source": [
    "df.sample(5)"
   ]
  },
  {
   "cell_type": "code",
   "execution_count": 4,
   "id": "576d4d9f",
   "metadata": {},
   "outputs": [],
   "source": [
    "df.drop(columns='CustomerID',inplace=True)"
   ]
  },
  {
   "cell_type": "code",
   "execution_count": 5,
   "id": "13589b17",
   "metadata": {},
   "outputs": [
    {
     "data": {
      "text/plain": [
       "Age                  1\n",
       "Gender               1\n",
       "Tenure               1\n",
       "Usage Frequency      1\n",
       "Support Calls        1\n",
       "Payment Delay        1\n",
       "Subscription Type    1\n",
       "Contract Length      1\n",
       "Total Spend          1\n",
       "Last Interaction     1\n",
       "Churn                1\n",
       "dtype: int64"
      ]
     },
     "execution_count": 5,
     "metadata": {},
     "output_type": "execute_result"
    }
   ],
   "source": [
    "df.isna().sum()"
   ]
  },
  {
   "cell_type": "code",
   "execution_count": 6,
   "id": "8764aac0",
   "metadata": {
    "scrolled": true
   },
   "outputs": [
    {
     "data": {
      "text/html": [
       "<div>\n",
       "<style scoped>\n",
       "    .dataframe tbody tr th:only-of-type {\n",
       "        vertical-align: middle;\n",
       "    }\n",
       "\n",
       "    .dataframe tbody tr th {\n",
       "        vertical-align: top;\n",
       "    }\n",
       "\n",
       "    .dataframe thead th {\n",
       "        text-align: right;\n",
       "    }\n",
       "</style>\n",
       "<table border=\"1\" class=\"dataframe\">\n",
       "  <thead>\n",
       "    <tr style=\"text-align: right;\">\n",
       "      <th></th>\n",
       "      <th>Age</th>\n",
       "      <th>Gender</th>\n",
       "      <th>Tenure</th>\n",
       "      <th>Usage Frequency</th>\n",
       "      <th>Support Calls</th>\n",
       "      <th>Payment Delay</th>\n",
       "      <th>Subscription Type</th>\n",
       "      <th>Contract Length</th>\n",
       "      <th>Total Spend</th>\n",
       "      <th>Last Interaction</th>\n",
       "      <th>Churn</th>\n",
       "    </tr>\n",
       "  </thead>\n",
       "  <tbody>\n",
       "    <tr>\n",
       "      <th>199295</th>\n",
       "      <td>NaN</td>\n",
       "      <td>NaN</td>\n",
       "      <td>NaN</td>\n",
       "      <td>NaN</td>\n",
       "      <td>NaN</td>\n",
       "      <td>NaN</td>\n",
       "      <td>NaN</td>\n",
       "      <td>NaN</td>\n",
       "      <td>NaN</td>\n",
       "      <td>NaN</td>\n",
       "      <td>NaN</td>\n",
       "    </tr>\n",
       "  </tbody>\n",
       "</table>\n",
       "</div>"
      ],
      "text/plain": [
       "        Age Gender  Tenure  Usage Frequency  Support Calls  Payment Delay  \\\n",
       "199295  NaN    NaN     NaN              NaN            NaN            NaN   \n",
       "\n",
       "       Subscription Type Contract Length  Total Spend  Last Interaction  Churn  \n",
       "199295               NaN             NaN          NaN               NaN    NaN  "
      ]
     },
     "execution_count": 6,
     "metadata": {},
     "output_type": "execute_result"
    }
   ],
   "source": [
    "df[df['Age'].isna()]"
   ]
  },
  {
   "cell_type": "code",
   "execution_count": 7,
   "id": "7de81ab1",
   "metadata": {
    "scrolled": true
   },
   "outputs": [
    {
     "data": {
      "text/plain": [
       "Age                  NaN\n",
       "Gender               NaN\n",
       "Tenure               NaN\n",
       "Usage Frequency      NaN\n",
       "Support Calls        NaN\n",
       "Payment Delay        NaN\n",
       "Subscription Type    NaN\n",
       "Contract Length      NaN\n",
       "Total Spend          NaN\n",
       "Last Interaction     NaN\n",
       "Churn                NaN\n",
       "Name: 199295, dtype: object"
      ]
     },
     "execution_count": 7,
     "metadata": {},
     "output_type": "execute_result"
    }
   ],
   "source": [
    "df.iloc[199295]"
   ]
  },
  {
   "cell_type": "code",
   "execution_count": null,
   "id": "097f1928",
   "metadata": {},
   "outputs": [],
   "source": []
  },
  {
   "cell_type": "code",
   "execution_count": 8,
   "id": "950f2efb",
   "metadata": {},
   "outputs": [],
   "source": [
    "df.dropna(inplace=True)"
   ]
  },
  {
   "cell_type": "code",
   "execution_count": 9,
   "id": "2ff321e9",
   "metadata": {
    "scrolled": true
   },
   "outputs": [
    {
     "data": {
      "text/html": [
       "<div>\n",
       "<style scoped>\n",
       "    .dataframe tbody tr th:only-of-type {\n",
       "        vertical-align: middle;\n",
       "    }\n",
       "\n",
       "    .dataframe tbody tr th {\n",
       "        vertical-align: top;\n",
       "    }\n",
       "\n",
       "    .dataframe thead th {\n",
       "        text-align: right;\n",
       "    }\n",
       "</style>\n",
       "<table border=\"1\" class=\"dataframe\">\n",
       "  <thead>\n",
       "    <tr style=\"text-align: right;\">\n",
       "      <th></th>\n",
       "      <th>Age</th>\n",
       "      <th>Gender</th>\n",
       "      <th>Tenure</th>\n",
       "      <th>Usage Frequency</th>\n",
       "      <th>Support Calls</th>\n",
       "      <th>Payment Delay</th>\n",
       "      <th>Subscription Type</th>\n",
       "      <th>Contract Length</th>\n",
       "      <th>Total Spend</th>\n",
       "      <th>Last Interaction</th>\n",
       "      <th>Churn</th>\n",
       "    </tr>\n",
       "  </thead>\n",
       "  <tbody>\n",
       "  </tbody>\n",
       "</table>\n",
       "</div>"
      ],
      "text/plain": [
       "Empty DataFrame\n",
       "Columns: [Age, Gender, Tenure, Usage Frequency, Support Calls, Payment Delay, Subscription Type, Contract Length, Total Spend, Last Interaction, Churn]\n",
       "Index: []"
      ]
     },
     "execution_count": 9,
     "metadata": {},
     "output_type": "execute_result"
    }
   ],
   "source": [
    "df[df['Age'].isna()]"
   ]
  },
  {
   "cell_type": "code",
   "execution_count": null,
   "id": "aadce0e2",
   "metadata": {},
   "outputs": [],
   "source": []
  },
  {
   "cell_type": "code",
   "execution_count": 10,
   "id": "2a5b9c66",
   "metadata": {},
   "outputs": [
    {
     "data": {
      "text/plain": [
       "Age                  float64\n",
       "Gender                object\n",
       "Tenure               float64\n",
       "Usage Frequency      float64\n",
       "Support Calls        float64\n",
       "Payment Delay        float64\n",
       "Subscription Type     object\n",
       "Contract Length       object\n",
       "Total Spend          float64\n",
       "Last Interaction     float64\n",
       "Churn                float64\n",
       "dtype: object"
      ]
     },
     "execution_count": 10,
     "metadata": {},
     "output_type": "execute_result"
    }
   ],
   "source": [
    "df.dtypes"
   ]
  },
  {
   "cell_type": "code",
   "execution_count": 11,
   "id": "4842328d",
   "metadata": {},
   "outputs": [
    {
     "data": {
      "text/plain": [
       "array([30., 65., 55., 58., 23., 51., 39., 64., 29., 52., 22., 48., 24.,\n",
       "       49., 19., 47., 42., 57., 27., 59., 21., 60., 35., 18., 56., 20.,\n",
       "       63., 25., 28., 32., 38., 37., 31., 53., 41., 33., 26., 36., 44.,\n",
       "       34., 61., 40., 45., 46., 54., 43., 50., 62.])"
      ]
     },
     "execution_count": 11,
     "metadata": {},
     "output_type": "execute_result"
    }
   ],
   "source": [
    "df.Age.unique()"
   ]
  },
  {
   "cell_type": "code",
   "execution_count": null,
   "id": "c8ee4fd3",
   "metadata": {
    "scrolled": true
   },
   "outputs": [],
   "source": []
  },
  {
   "cell_type": "code",
   "execution_count": 12,
   "id": "d9c0fe86",
   "metadata": {},
   "outputs": [],
   "source": [
    "def print_unique_col_values(df):\n",
    "    for column in df:\n",
    "        print (f'{column} : {df[column].unique()}\\n' )"
   ]
  },
  {
   "cell_type": "code",
   "execution_count": 13,
   "id": "e471729e",
   "metadata": {},
   "outputs": [
    {
     "name": "stdout",
     "output_type": "stream",
     "text": [
      "Age : [30. 65. 55. 58. 23. 51. 39. 64. 29. 52. 22. 48. 24. 49. 19. 47. 42. 57.\n",
      " 27. 59. 21. 60. 35. 18. 56. 20. 63. 25. 28. 32. 38. 37. 31. 53. 41. 33.\n",
      " 26. 36. 44. 34. 61. 40. 45. 46. 54. 43. 50. 62.]\n",
      "\n",
      "Gender : ['Female' 'Male']\n",
      "\n",
      "Tenure : [39. 49. 14. 38. 32. 33. 37. 12.  3. 18. 21. 41. 35.  4. 56. 44. 15. 55.\n",
      " 43. 52. 26.  2. 29. 59. 40. 51. 53. 24. 30.  6. 28. 17. 60.  7. 34. 10.\n",
      "  5. 45. 54. 58. 25. 13. 47. 31. 22. 19. 23.  1.  8. 46. 16. 50. 48. 11.\n",
      " 42. 27.  9. 20. 57. 36.]\n",
      "\n",
      "Usage Frequency : [14.  1.  4. 21. 20. 25. 12.  8.  5.  9.  6. 17. 23. 13. 16. 27.  2. 28.\n",
      " 29. 15. 24.  3. 22. 26. 30.  7. 11. 18. 19. 10.]\n",
      "\n",
      "Support Calls : [ 5. 10.  6.  7.  9.  3.  4.  2.  0.  1.  8.]\n",
      "\n",
      "Payment Delay : [18.  8.  7. 26. 16. 15.  4. 11. 30. 25. 13. 22.  5. 14.  3. 10. 28.  2.\n",
      "  6. 27. 12. 29. 17. 24.  9. 23. 21.  1.  0. 20. 19.]\n",
      "\n",
      "Subscription Type : ['Standard' 'Basic' 'Premium']\n",
      "\n",
      "Contract Length : ['Annual' 'Monthly' 'Quarterly']\n",
      "\n",
      "Total Spend : [932.   557.   185.   ... 829.59 804.3  959.47]\n",
      "\n",
      "Last Interaction : [17.  6.  3. 29. 20.  8. 24. 30. 13. 18. 19. 23.  4. 16. 10. 21. 22.  2.\n",
      " 15. 28. 26.  7.  1.  9.  5. 14. 11. 12. 27. 25.]\n",
      "\n",
      "Churn : [1. 0.]\n",
      "\n"
     ]
    }
   ],
   "source": [
    "print_unique_col_values(df)"
   ]
  },
  {
   "cell_type": "code",
   "execution_count": 14,
   "id": "1e149cdd",
   "metadata": {},
   "outputs": [
    {
     "data": {
      "text/plain": [
       "0         30.0\n",
       "1         65.0\n",
       "2         55.0\n",
       "3         58.0\n",
       "4         23.0\n",
       "          ... \n",
       "440828    42.0\n",
       "440829    25.0\n",
       "440830    26.0\n",
       "440831    28.0\n",
       "440832    31.0\n",
       "Name: Age, Length: 440832, dtype: float64"
      ]
     },
     "execution_count": 14,
     "metadata": {},
     "output_type": "execute_result"
    }
   ],
   "source": [
    "pd.to_numeric(df.Age)"
   ]
  },
  {
   "cell_type": "code",
   "execution_count": 15,
   "id": "e91b9c85",
   "metadata": {},
   "outputs": [],
   "source": [
    "df[\"Gender\"].replace({\"Male\":0,\"Female\":1},inplace=True)"
   ]
  },
  {
   "cell_type": "code",
   "execution_count": 16,
   "id": "49ab575d",
   "metadata": {},
   "outputs": [
    {
     "name": "stdout",
     "output_type": "stream",
     "text": [
      "Age : [30. 65. 55. 58. 23. 51. 39. 64. 29. 52. 22. 48. 24. 49. 19. 47. 42. 57.\n",
      " 27. 59. 21. 60. 35. 18. 56. 20. 63. 25. 28. 32. 38. 37. 31. 53. 41. 33.\n",
      " 26. 36. 44. 34. 61. 40. 45. 46. 54. 43. 50. 62.]\n",
      "\n",
      "Gender : [1 0]\n",
      "\n",
      "Tenure : [39. 49. 14. 38. 32. 33. 37. 12.  3. 18. 21. 41. 35.  4. 56. 44. 15. 55.\n",
      " 43. 52. 26.  2. 29. 59. 40. 51. 53. 24. 30.  6. 28. 17. 60.  7. 34. 10.\n",
      "  5. 45. 54. 58. 25. 13. 47. 31. 22. 19. 23.  1.  8. 46. 16. 50. 48. 11.\n",
      " 42. 27.  9. 20. 57. 36.]\n",
      "\n",
      "Usage Frequency : [14.  1.  4. 21. 20. 25. 12.  8.  5.  9.  6. 17. 23. 13. 16. 27.  2. 28.\n",
      " 29. 15. 24.  3. 22. 26. 30.  7. 11. 18. 19. 10.]\n",
      "\n",
      "Support Calls : [ 5. 10.  6.  7.  9.  3.  4.  2.  0.  1.  8.]\n",
      "\n",
      "Payment Delay : [18.  8.  7. 26. 16. 15.  4. 11. 30. 25. 13. 22.  5. 14.  3. 10. 28.  2.\n",
      "  6. 27. 12. 29. 17. 24.  9. 23. 21.  1.  0. 20. 19.]\n",
      "\n",
      "Subscription Type : ['Standard' 'Basic' 'Premium']\n",
      "\n",
      "Contract Length : ['Annual' 'Monthly' 'Quarterly']\n",
      "\n",
      "Total Spend : [932.   557.   185.   ... 829.59 804.3  959.47]\n",
      "\n",
      "Last Interaction : [17.  6.  3. 29. 20.  8. 24. 30. 13. 18. 19. 23.  4. 16. 10. 21. 22.  2.\n",
      " 15. 28. 26.  7.  1.  9.  5. 14. 11. 12. 27. 25.]\n",
      "\n",
      "Churn : [1. 0.]\n",
      "\n"
     ]
    }
   ],
   "source": [
    "print_unique_col_values(df)"
   ]
  },
  {
   "cell_type": "code",
   "execution_count": null,
   "id": "69cf9e37",
   "metadata": {},
   "outputs": [],
   "source": []
  },
  {
   "cell_type": "code",
   "execution_count": 17,
   "id": "a5e1ff72",
   "metadata": {},
   "outputs": [],
   "source": [
    "# hot end coding // using pd.get_dummies"
   ]
  },
  {
   "cell_type": "code",
   "execution_count": 18,
   "id": "8e95abcf",
   "metadata": {},
   "outputs": [
    {
     "data": {
      "text/html": [
       "<div>\n",
       "<style scoped>\n",
       "    .dataframe tbody tr th:only-of-type {\n",
       "        vertical-align: middle;\n",
       "    }\n",
       "\n",
       "    .dataframe tbody tr th {\n",
       "        vertical-align: top;\n",
       "    }\n",
       "\n",
       "    .dataframe thead th {\n",
       "        text-align: right;\n",
       "    }\n",
       "</style>\n",
       "<table border=\"1\" class=\"dataframe\">\n",
       "  <thead>\n",
       "    <tr style=\"text-align: right;\">\n",
       "      <th></th>\n",
       "      <th>Age</th>\n",
       "      <th>Gender</th>\n",
       "      <th>Tenure</th>\n",
       "      <th>Usage Frequency</th>\n",
       "      <th>Support Calls</th>\n",
       "      <th>Payment Delay</th>\n",
       "      <th>Total Spend</th>\n",
       "      <th>Last Interaction</th>\n",
       "      <th>Churn</th>\n",
       "      <th>Subscription Type_Basic</th>\n",
       "      <th>Subscription Type_Premium</th>\n",
       "      <th>Subscription Type_Standard</th>\n",
       "      <th>Contract Length_Annual</th>\n",
       "      <th>Contract Length_Monthly</th>\n",
       "      <th>Contract Length_Quarterly</th>\n",
       "    </tr>\n",
       "  </thead>\n",
       "  <tbody>\n",
       "    <tr>\n",
       "      <th>0</th>\n",
       "      <td>30.0</td>\n",
       "      <td>1</td>\n",
       "      <td>39.0</td>\n",
       "      <td>14.0</td>\n",
       "      <td>5.0</td>\n",
       "      <td>18.0</td>\n",
       "      <td>932.0</td>\n",
       "      <td>17.0</td>\n",
       "      <td>1.0</td>\n",
       "      <td>0</td>\n",
       "      <td>0</td>\n",
       "      <td>1</td>\n",
       "      <td>1</td>\n",
       "      <td>0</td>\n",
       "      <td>0</td>\n",
       "    </tr>\n",
       "    <tr>\n",
       "      <th>1</th>\n",
       "      <td>65.0</td>\n",
       "      <td>1</td>\n",
       "      <td>49.0</td>\n",
       "      <td>1.0</td>\n",
       "      <td>10.0</td>\n",
       "      <td>8.0</td>\n",
       "      <td>557.0</td>\n",
       "      <td>6.0</td>\n",
       "      <td>1.0</td>\n",
       "      <td>1</td>\n",
       "      <td>0</td>\n",
       "      <td>0</td>\n",
       "      <td>0</td>\n",
       "      <td>1</td>\n",
       "      <td>0</td>\n",
       "    </tr>\n",
       "    <tr>\n",
       "      <th>2</th>\n",
       "      <td>55.0</td>\n",
       "      <td>1</td>\n",
       "      <td>14.0</td>\n",
       "      <td>4.0</td>\n",
       "      <td>6.0</td>\n",
       "      <td>18.0</td>\n",
       "      <td>185.0</td>\n",
       "      <td>3.0</td>\n",
       "      <td>1.0</td>\n",
       "      <td>1</td>\n",
       "      <td>0</td>\n",
       "      <td>0</td>\n",
       "      <td>0</td>\n",
       "      <td>0</td>\n",
       "      <td>1</td>\n",
       "    </tr>\n",
       "  </tbody>\n",
       "</table>\n",
       "</div>"
      ],
      "text/plain": [
       "    Age  Gender  Tenure  Usage Frequency  Support Calls  Payment Delay  \\\n",
       "0  30.0       1    39.0             14.0            5.0           18.0   \n",
       "1  65.0       1    49.0              1.0           10.0            8.0   \n",
       "2  55.0       1    14.0              4.0            6.0           18.0   \n",
       "\n",
       "   Total Spend  Last Interaction  Churn  Subscription Type_Basic  \\\n",
       "0        932.0              17.0    1.0                        0   \n",
       "1        557.0               6.0    1.0                        1   \n",
       "2        185.0               3.0    1.0                        1   \n",
       "\n",
       "   Subscription Type_Premium  Subscription Type_Standard  \\\n",
       "0                          0                           1   \n",
       "1                          0                           0   \n",
       "2                          0                           0   \n",
       "\n",
       "   Contract Length_Annual  Contract Length_Monthly  Contract Length_Quarterly  \n",
       "0                       1                        0                          0  \n",
       "1                       0                        1                          0  \n",
       "2                       0                        0                          1  "
      ]
     },
     "execution_count": 18,
     "metadata": {},
     "output_type": "execute_result"
    }
   ],
   "source": [
    "df2 = pd.get_dummies(data=df,columns=['Subscription Type','Contract Length'])\n",
    "df2.head(3)"
   ]
  },
  {
   "cell_type": "code",
   "execution_count": null,
   "id": "c902a408",
   "metadata": {},
   "outputs": [],
   "source": []
  },
  {
   "cell_type": "code",
   "execution_count": 19,
   "id": "e565b8f4",
   "metadata": {},
   "outputs": [],
   "source": [
    "# scaling using MinMaxScaler"
   ]
  },
  {
   "cell_type": "code",
   "execution_count": 20,
   "id": "07d829db",
   "metadata": {},
   "outputs": [],
   "source": [
    "from sklearn.preprocessing import MinMaxScaler\n",
    "scaler = MinMaxScaler()\n",
    "\n",
    "cols_to_scale=['Usage Frequency','Support Calls','Payment Delay','Total Spend','Last Interaction']\n",
    "\n",
    "df2[cols_to_scale] = scaler.fit_transform(df2[cols_to_scale])"
   ]
  },
  {
   "cell_type": "code",
   "execution_count": 21,
   "id": "032701a3",
   "metadata": {},
   "outputs": [
    {
     "name": "stdout",
     "output_type": "stream",
     "text": [
      "Age : [30. 65. 55. 58. 23. 51. 39. 64. 29. 52. 22. 48. 24. 49. 19. 47. 42. 57.\n",
      " 27. 59. 21. 60. 35. 18. 56. 20. 63. 25. 28. 32. 38. 37. 31. 53. 41. 33.\n",
      " 26. 36. 44. 34. 61. 40. 45. 46. 54. 43. 50. 62.]\n",
      "\n",
      "Gender : [1 0]\n",
      "\n",
      "Tenure : [39. 49. 14. 38. 32. 33. 37. 12.  3. 18. 21. 41. 35.  4. 56. 44. 15. 55.\n",
      " 43. 52. 26.  2. 29. 59. 40. 51. 53. 24. 30.  6. 28. 17. 60.  7. 34. 10.\n",
      "  5. 45. 54. 58. 25. 13. 47. 31. 22. 19. 23.  1.  8. 46. 16. 50. 48. 11.\n",
      " 42. 27.  9. 20. 57. 36.]\n",
      "\n",
      "Usage Frequency : [0.44827586 0.         0.10344828 0.68965517 0.65517241 0.82758621\n",
      " 0.37931034 0.24137931 0.13793103 0.27586207 0.17241379 0.55172414\n",
      " 0.75862069 0.4137931  0.51724138 0.89655172 0.03448276 0.93103448\n",
      " 0.96551724 0.48275862 0.79310345 0.06896552 0.72413793 0.86206897\n",
      " 1.         0.20689655 0.34482759 0.5862069  0.62068966 0.31034483]\n",
      "\n",
      "Support Calls : [0.5 1.  0.6 0.7 0.9 0.3 0.4 0.2 0.  0.1 0.8]\n",
      "\n",
      "Payment Delay : [0.6        0.26666667 0.23333333 0.86666667 0.53333333 0.5\n",
      " 0.13333333 0.36666667 1.         0.83333333 0.43333333 0.73333333\n",
      " 0.16666667 0.46666667 0.1        0.33333333 0.93333333 0.06666667\n",
      " 0.2        0.9        0.4        0.96666667 0.56666667 0.8\n",
      " 0.3        0.76666667 0.7        0.03333333 0.         0.66666667\n",
      " 0.63333333]\n",
      "\n",
      "Total Spend : [0.92444444 0.50777778 0.09444444 ... 0.81065556 0.78255556 0.95496667]\n",
      "\n",
      "Last Interaction : [0.55172414 0.17241379 0.06896552 0.96551724 0.65517241 0.24137931\n",
      " 0.79310345 1.         0.4137931  0.5862069  0.62068966 0.75862069\n",
      " 0.10344828 0.51724138 0.31034483 0.68965517 0.72413793 0.03448276\n",
      " 0.48275862 0.93103448 0.86206897 0.20689655 0.         0.27586207\n",
      " 0.13793103 0.44827586 0.34482759 0.37931034 0.89655172 0.82758621]\n",
      "\n",
      "Churn : [1. 0.]\n",
      "\n",
      "Subscription Type_Basic : [0 1]\n",
      "\n",
      "Subscription Type_Premium : [0 1]\n",
      "\n",
      "Subscription Type_Standard : [1 0]\n",
      "\n",
      "Contract Length_Annual : [1 0]\n",
      "\n",
      "Contract Length_Monthly : [0 1]\n",
      "\n",
      "Contract Length_Quarterly : [0 1]\n",
      "\n"
     ]
    }
   ],
   "source": [
    "print_unique_col_values(df2)"
   ]
  },
  {
   "cell_type": "code",
   "execution_count": null,
   "id": "41734f8f",
   "metadata": {},
   "outputs": [],
   "source": []
  },
  {
   "cell_type": "code",
   "execution_count": 22,
   "id": "329d7bba",
   "metadata": {},
   "outputs": [],
   "source": [
    "# Modeling"
   ]
  },
  {
   "cell_type": "markdown",
   "id": "fcf9e6a8",
   "metadata": {},
   "source": [
    "test traing split"
   ]
  },
  {
   "cell_type": "code",
   "execution_count": 23,
   "id": "d115cdbd",
   "metadata": {},
   "outputs": [],
   "source": [
    "from sklearn.model_selection import train_test_split\n",
    "\n",
    "x= df2.drop(columns=['Churn'],axis='column')\n",
    "y= df2['Churn']\n",
    "\n",
    "x_train,x_test,y_train,y_test = train_test_split(x,y,test_size=0.2,random_state=4)"
   ]
  },
  {
   "cell_type": "code",
   "execution_count": 24,
   "id": "43f46d48",
   "metadata": {},
   "outputs": [
    {
     "data": {
      "text/plain": [
       "(440832, 14)"
      ]
     },
     "execution_count": 24,
     "metadata": {},
     "output_type": "execute_result"
    }
   ],
   "source": [
    "x.shape"
   ]
  },
  {
   "cell_type": "code",
   "execution_count": null,
   "id": "bdd0b9fa",
   "metadata": {},
   "outputs": [],
   "source": []
  },
  {
   "cell_type": "markdown",
   "id": "15927736",
   "metadata": {},
   "source": [
    "## model bulding (ANN) using keras / tensorflow"
   ]
  },
  {
   "cell_type": "code",
   "execution_count": 25,
   "id": "0837eb9c",
   "metadata": {},
   "outputs": [],
   "source": [
    "# pip install tensorflow\n",
    "# pip install keras"
   ]
  },
  {
   "cell_type": "code",
   "execution_count": 26,
   "id": "c6bfd624",
   "metadata": {},
   "outputs": [],
   "source": [
    "import tensorflow as tf"
   ]
  },
  {
   "cell_type": "code",
   "execution_count": 27,
   "id": "298d7a38",
   "metadata": {},
   "outputs": [],
   "source": [
    "from tensorflow import keras"
   ]
  },
  {
   "cell_type": "code",
   "execution_count": 31,
   "id": "3fdeca2b",
   "metadata": {
    "scrolled": true
   },
   "outputs": [
    {
     "name": "stdout",
     "output_type": "stream",
     "text": [
      "Epoch 1/5\n",
      "11021/11021 [==============================] - 36s 3ms/step - loss: 0.3026 - accuracy: 0.8752\n",
      "Epoch 2/5\n",
      "11021/11021 [==============================] - 35s 3ms/step - loss: 0.1953 - accuracy: 0.9196\n",
      "Epoch 3/5\n",
      "11021/11021 [==============================] - 31s 3ms/step - loss: 0.1882 - accuracy: 0.9238\n",
      "Epoch 4/5\n",
      "11021/11021 [==============================] - 31s 3ms/step - loss: 0.1847 - accuracy: 0.9256\n",
      "Epoch 5/5\n",
      "11021/11021 [==============================] - 33s 3ms/step - loss: 0.1765 - accuracy: 0.9302\n"
     ]
    },
    {
     "data": {
      "text/plain": [
       "<keras.src.callbacks.History at 0x242ddd6d790>"
      ]
     },
     "execution_count": 31,
     "metadata": {},
     "output_type": "execute_result"
    }
   ],
   "source": [
    "model = keras.Sequential([\n",
    "    keras.layers.Dense(14,input_shape=(14,) , activation='relu'),\n",
    "    keras.layers.Dense(6,activation='relu'),\n",
    "    keras.layers.Dense(1,activation='sigmoid')\n",
    "])\n",
    "\n",
    "model.compile(optimizer='adam',\n",
    "             loss= 'binary_crossentropy',\n",
    "             metrics=['accuracy'])\n",
    "\n",
    "model.fit(x_train,y_train,epochs=5)"
   ]
  },
  {
   "cell_type": "code",
   "execution_count": 32,
   "id": "3dcb6ef2",
   "metadata": {},
   "outputs": [],
   "source": [
    "# predicting y (churn) values for x_test"
   ]
  },
  {
   "cell_type": "code",
   "execution_count": 33,
   "id": "92b13f81",
   "metadata": {},
   "outputs": [
    {
     "name": "stdout",
     "output_type": "stream",
     "text": [
      "2756/2756 [==============================] - 6s 2ms/step\n"
     ]
    },
    {
     "data": {
      "text/plain": [
       "array([[1.        ],\n",
       "       [1.        ],\n",
       "       [0.02711159],\n",
       "       [0.00589965],\n",
       "       [0.9999974 ]], dtype=float32)"
      ]
     },
     "execution_count": 33,
     "metadata": {},
     "output_type": "execute_result"
    }
   ],
   "source": [
    "yp = model.predict(x_test)\n",
    "yp[:5]"
   ]
  },
  {
   "cell_type": "code",
   "execution_count": 35,
   "id": "40ca62e7",
   "metadata": {},
   "outputs": [
    {
     "data": {
      "text/plain": [
       "[1, 1, 0, 0, 1, 1, 0, 0, 1, 1]"
      ]
     },
     "execution_count": 35,
     "metadata": {},
     "output_type": "execute_result"
    }
   ],
   "source": [
    "y_pred = []\n",
    "for i in yp:\n",
    "    if i >0.5:\n",
    "        y_pred.append(1)\n",
    "    else:\n",
    "        y_pred.append(0)\n",
    "        \n",
    "y_pred[:10]"
   ]
  },
  {
   "cell_type": "code",
   "execution_count": 36,
   "id": "1b4e1e31",
   "metadata": {},
   "outputs": [
    {
     "data": {
      "text/plain": [
       "76072     1.0\n",
       "177391    1.0\n",
       "303286    0.0\n",
       "281873    0.0\n",
       "145303    1.0\n",
       "38442     1.0\n",
       "312002    0.0\n",
       "419882    0.0\n",
       "102262    1.0\n",
       "142177    1.0\n",
       "Name: Churn, dtype: float64"
      ]
     },
     "execution_count": 36,
     "metadata": {},
     "output_type": "execute_result"
    }
   ],
   "source": [
    "y_test[:10]"
   ]
  },
  {
   "cell_type": "code",
   "execution_count": null,
   "id": "f69ff86c",
   "metadata": {},
   "outputs": [],
   "source": []
  },
  {
   "cell_type": "code",
   "execution_count": 37,
   "id": "fa16122f",
   "metadata": {},
   "outputs": [
    {
     "name": "stdout",
     "output_type": "stream",
     "text": [
      "              precision    recall  f1-score   support\n",
      "\n",
      "         0.0       0.90      0.95      0.93     38135\n",
      "         1.0       0.96      0.92      0.94     50032\n",
      "\n",
      "    accuracy                           0.94     88167\n",
      "   macro avg       0.93      0.94      0.94     88167\n",
      "weighted avg       0.94      0.94      0.94     88167\n",
      "\n"
     ]
    }
   ],
   "source": [
    "from sklearn.metrics import confusion_matrix , classification_report\n",
    "\n",
    "print(classification_report(y_test,y_pred))"
   ]
  },
  {
   "cell_type": "code",
   "execution_count": 44,
   "id": "9ea770c1",
   "metadata": {
    "scrolled": true
   },
   "outputs": [
    {
     "data": {
      "text/plain": [
       "Text(95.72222222222221, 0.5, 'Truth')"
      ]
     },
     "execution_count": 44,
     "metadata": {},
     "output_type": "execute_result"
    },
    {
     "data": {
      "image/png": "[encoded data removed]",
      "text/plain": [
       "<Figure size 1000x700 with 2 Axes>"
      ]
     },
     "metadata": {},
     "output_type": "display_data"
    }
   ],
   "source": [
    "cm = tf.math.confusion_matrix(labels=y_test,predictions=y_pred)\n",
    "\n",
    "plt.figure(figsize = (10,7))\n",
    "sn.heatmap(cm,annot=True,fmt='d')\n",
    "plt.xlabel('predicted')\n",
    "plt.ylabel('Truth')"
   ]
  },
  {
   "cell_type": "code",
   "execution_count": 47,
   "id": "ba41ee73",
   "metadata": {},
   "outputs": [
    {
     "data": {
      "text/plain": [
       "(440832,)"
      ]
     },
     "execution_count": 47,
     "metadata": {},
     "output_type": "execute_result"
    }
   ],
   "source": [
    "y_test.shape"
   ]
  },
  {
   "cell_type": "markdown",
   "id": "c8d71e47",
   "metadata": {},
   "source": [
    "## Accuracy"
   ]
  },
  {
   "cell_type": "code",
   "execution_count": 52,
   "id": "90e66791",
   "metadata": {},
   "outputs": [
    {
     "data": {
      "text/plain": [
       "0.937"
      ]
     },
     "execution_count": 52,
     "metadata": {},
     "output_type": "execute_result"
    }
   ],
   "source": [
    "round((36387+46212)/(36387+46212+3820+1740),3)"
   ]
  },
  {
   "cell_type": "markdown",
   "id": "39a3209d",
   "metadata": {},
   "source": [
    "### Precision for 0 class . i.e - precision for customers who did not churn"
   ]
  },
  {
   "cell_type": "code",
   "execution_count": 56,
   "id": "eb54d164",
   "metadata": {},
   "outputs": [
    {
     "data": {
      "text/plain": [
       "0.905"
      ]
     },
     "execution_count": 56,
     "metadata": {},
     "output_type": "execute_result"
    }
   ],
   "source": [
    "round((36387)/(36387+3820),3)"
   ]
  },
  {
   "cell_type": "markdown",
   "id": "d4185d45",
   "metadata": {},
   "source": [
    "### Precision for 1 class . i.e - precision for customers who actually churned"
   ]
  },
  {
   "cell_type": "code",
   "execution_count": 58,
   "id": "b515f519",
   "metadata": {},
   "outputs": [
    {
     "data": {
      "text/plain": [
       "0.964"
      ]
     },
     "execution_count": 58,
     "metadata": {},
     "output_type": "execute_result"
    }
   ],
   "source": [
    "round((46212)/(46212+1740),3)"
   ]
  },
  {
   "cell_type": "markdown",
   "id": "acde4548",
   "metadata": {},
   "source": [
    "### Recall for 0 class"
   ]
  },
  {
   "cell_type": "code",
   "execution_count": 59,
   "id": "0b32661b",
   "metadata": {},
   "outputs": [
    {
     "data": {
      "text/plain": [
       "0.95"
      ]
     },
     "execution_count": 59,
     "metadata": {},
     "output_type": "execute_result"
    }
   ],
   "source": [
    "round(36387/(36387+1740),2)"
   ]
  },
  {
   "cell_type": "code",
   "execution_count": 60,
   "id": "f396bad7",
   "metadata": {},
   "outputs": [
    {
     "data": {
      "text/plain": [
       "0.92"
      ]
     },
     "execution_count": 60,
     "metadata": {},
     "output_type": "execute_result"
    }
   ],
   "source": [
    "round((46212)/(46212+3820),2)"
   ]
  },
  {
   "cell_type": "code",
   "execution_count": null,
   "id": "88fd9ad1",
   "metadata": {},
   "outputs": [],
   "source": []
  }
 ],
 "metadata": {
  "kernelspec": {
   "display_name": "Python 3 (ipykernel)",
   "language": "python",
   "name": "python3"
  },
  "language_info": {
   "codemirror_mode": {
    "name": "ipython",
    "version": 3
   },
   "file_extension": ".py",
   "mimetype": "text/x-python",
   "name": "python",
   "nbconvert_exporter": "python",
   "pygments_lexer": "ipython3",
   "version": "3.11.4"
  }
 },
 "nbformat": 4,
 "nbformat_minor": 5
}
